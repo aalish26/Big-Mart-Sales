{
 "cells": [
  {
   "cell_type": "markdown",
   "metadata": {},
   "source": [
    "# Predictive Modelling on Big Mart Sales Data \n",
    "\n",
    "#### This piece of code includes a full machine learning project including the whole pipeline of operations outlined below:\n",
    "\n",
    "1. data preparation\n",
    "2. choosing a model\n",
    "3. training a model\n",
    "4. evaluating the model\n",
    "5. parameter tuning\n",
    "6. make predictions\n",
    "\n",
    "\n",
    "\n",
    "A machine learning pipeline is a way to codify and automate the workflow it takes to produce a machine learning model. The machine learning pipelines consist of multiple sequential steps that do everything from data extraction and pre-processing to model training and evaluation. \n",
    "\n",
    "The packages used in this programming are: Pandas, Numpy, Scikit-Learn\n",
    "\n",
    "The *'Big Mart Predictive Sales Report'* accompanies this code and demonstrates understanding of **ethical design**.\n",
    "\n",
    "This research article was used to support intial understanding of machine learning models. \n",
    "[Link](https://www.researchgate.net/profile/Vladimir-Nasteski/publication/328146111_An_overview_of_the_supervised_machine_learning_methods/links/5c1025194585157ac1bba147/An-overview-of-the-supervised-machine-learning-methods.pdf)"
   ]
  },
  {
   "cell_type": "code",
   "execution_count": 1,
   "metadata": {},
   "outputs": [],
   "source": [
    "# Import necessary libraries \n",
    "\n",
    "import pandas as pd \n",
    "import numpy as np\n",
    "import matplotlib.pyplot as plt \n",
    "%matplotlib inline "
   ]
  },
  {
   "cell_type": "markdown",
   "metadata": {},
   "source": [
    "### Importing Data from Excel"
   ]
  },
  {
   "cell_type": "code",
   "execution_count": 2,
   "metadata": {},
   "outputs": [],
   "source": [
    "# test_df = test data frame\n",
    "\n",
    "test_df = pd.read_csv(r'C:\\Users\\karol\\Documents\\Keele University\\Year 2\\Semester 2\\Software Development\\Data\\Test.csv')\n",
    "\n",
    "# train_df = train data frame\n",
    "\n",
    "train_df = pd.read_csv(r'C:\\Users\\karol\\Documents\\Keele University\\Year 2\\Semester 2\\Software Development\\Data\\Train.csv')"
   ]
  },
  {
   "cell_type": "code",
   "execution_count": 3,
   "metadata": {},
   "outputs": [
    {
     "data": {
      "text/html": [
       "<div>\n",
       "<style scoped>\n",
       "    .dataframe tbody tr th:only-of-type {\n",
       "        vertical-align: middle;\n",
       "    }\n",
       "\n",
       "    .dataframe tbody tr th {\n",
       "        vertical-align: top;\n",
       "    }\n",
       "\n",
       "    .dataframe thead th {\n",
       "        text-align: right;\n",
       "    }\n",
       "</style>\n",
       "<table border=\"1\" class=\"dataframe\">\n",
       "  <thead>\n",
       "    <tr style=\"text-align: right;\">\n",
       "      <th></th>\n",
       "      <th>Item_Identifier</th>\n",
       "      <th>Item_Weight</th>\n",
       "      <th>Item_Fat_Content</th>\n",
       "      <th>Item_Visibility</th>\n",
       "      <th>Item_Type</th>\n",
       "      <th>Item_MRP</th>\n",
       "      <th>Outlet_Identifier</th>\n",
       "      <th>Outlet_Establishment_Year</th>\n",
       "      <th>Outlet_Size</th>\n",
       "      <th>Outlet_Location_Type</th>\n",
       "      <th>Outlet_Type</th>\n",
       "      <th>Item_Outlet_Sales</th>\n",
       "    </tr>\n",
       "  </thead>\n",
       "  <tbody>\n",
       "    <tr>\n",
       "      <th>0</th>\n",
       "      <td>FDA15</td>\n",
       "      <td>9.30</td>\n",
       "      <td>Low Fat</td>\n",
       "      <td>0.016047</td>\n",
       "      <td>Dairy</td>\n",
       "      <td>249.8092</td>\n",
       "      <td>OUT049</td>\n",
       "      <td>1999</td>\n",
       "      <td>Medium</td>\n",
       "      <td>Tier 1</td>\n",
       "      <td>Supermarket Type1</td>\n",
       "      <td>3735.1380</td>\n",
       "    </tr>\n",
       "    <tr>\n",
       "      <th>1</th>\n",
       "      <td>DRC01</td>\n",
       "      <td>5.92</td>\n",
       "      <td>Regular</td>\n",
       "      <td>0.019278</td>\n",
       "      <td>Soft Drinks</td>\n",
       "      <td>48.2692</td>\n",
       "      <td>OUT018</td>\n",
       "      <td>2009</td>\n",
       "      <td>Medium</td>\n",
       "      <td>Tier 3</td>\n",
       "      <td>Supermarket Type2</td>\n",
       "      <td>443.4228</td>\n",
       "    </tr>\n",
       "    <tr>\n",
       "      <th>2</th>\n",
       "      <td>FDN15</td>\n",
       "      <td>17.50</td>\n",
       "      <td>Low Fat</td>\n",
       "      <td>0.016760</td>\n",
       "      <td>Meat</td>\n",
       "      <td>141.6180</td>\n",
       "      <td>OUT049</td>\n",
       "      <td>1999</td>\n",
       "      <td>Medium</td>\n",
       "      <td>Tier 1</td>\n",
       "      <td>Supermarket Type1</td>\n",
       "      <td>2097.2700</td>\n",
       "    </tr>\n",
       "    <tr>\n",
       "      <th>3</th>\n",
       "      <td>FDX07</td>\n",
       "      <td>19.20</td>\n",
       "      <td>Regular</td>\n",
       "      <td>0.000000</td>\n",
       "      <td>Fruits and Vegetables</td>\n",
       "      <td>182.0950</td>\n",
       "      <td>OUT010</td>\n",
       "      <td>1998</td>\n",
       "      <td>NaN</td>\n",
       "      <td>Tier 3</td>\n",
       "      <td>Grocery Store</td>\n",
       "      <td>732.3800</td>\n",
       "    </tr>\n",
       "    <tr>\n",
       "      <th>4</th>\n",
       "      <td>NCD19</td>\n",
       "      <td>8.93</td>\n",
       "      <td>Low Fat</td>\n",
       "      <td>0.000000</td>\n",
       "      <td>Household</td>\n",
       "      <td>53.8614</td>\n",
       "      <td>OUT013</td>\n",
       "      <td>1987</td>\n",
       "      <td>High</td>\n",
       "      <td>Tier 3</td>\n",
       "      <td>Supermarket Type1</td>\n",
       "      <td>994.7052</td>\n",
       "    </tr>\n",
       "  </tbody>\n",
       "</table>\n",
       "</div>"
      ],
      "text/plain": [
       "  Item_Identifier  Item_Weight Item_Fat_Content  Item_Visibility  \\\n",
       "0           FDA15         9.30          Low Fat         0.016047   \n",
       "1           DRC01         5.92          Regular         0.019278   \n",
       "2           FDN15        17.50          Low Fat         0.016760   \n",
       "3           FDX07        19.20          Regular         0.000000   \n",
       "4           NCD19         8.93          Low Fat         0.000000   \n",
       "\n",
       "               Item_Type  Item_MRP Outlet_Identifier  \\\n",
       "0                  Dairy  249.8092            OUT049   \n",
       "1            Soft Drinks   48.2692            OUT018   \n",
       "2                   Meat  141.6180            OUT049   \n",
       "3  Fruits and Vegetables  182.0950            OUT010   \n",
       "4              Household   53.8614            OUT013   \n",
       "\n",
       "   Outlet_Establishment_Year Outlet_Size Outlet_Location_Type  \\\n",
       "0                       1999      Medium               Tier 1   \n",
       "1                       2009      Medium               Tier 3   \n",
       "2                       1999      Medium               Tier 1   \n",
       "3                       1998         NaN               Tier 3   \n",
       "4                       1987        High               Tier 3   \n",
       "\n",
       "         Outlet_Type  Item_Outlet_Sales  \n",
       "0  Supermarket Type1          3735.1380  \n",
       "1  Supermarket Type2           443.4228  \n",
       "2  Supermarket Type1          2097.2700  \n",
       "3      Grocery Store           732.3800  \n",
       "4  Supermarket Type1           994.7052  "
      ]
     },
     "execution_count": 3,
     "metadata": {},
     "output_type": "execute_result"
    }
   ],
   "source": [
    "# checking they have imported correctly\n",
    "\n",
    "test_df.head()\n",
    "\n",
    "train_df.head()"
   ]
  },
  {
   "cell_type": "code",
   "execution_count": 4,
   "metadata": {},
   "outputs": [],
   "source": [
    "# merging data frames\n",
    "\n",
    "test_train = [test_df, train_df]\n",
    "\n",
    "df = pd.concat(test_train)"
   ]
  },
  {
   "cell_type": "markdown",
   "metadata": {},
   "source": [
    "### Data Cleaning"
   ]
  },
  {
   "cell_type": "code",
   "execution_count": 5,
   "metadata": {},
   "outputs": [
    {
     "name": "stdout",
     "output_type": "stream",
     "text": [
      "<class 'pandas.core.frame.DataFrame'>\n",
      "RangeIndex: 5681 entries, 0 to 5680\n",
      "Data columns (total 11 columns):\n",
      " #   Column                     Non-Null Count  Dtype  \n",
      "---  ------                     --------------  -----  \n",
      " 0   Item_Identifier            5681 non-null   object \n",
      " 1   Item_Weight                4705 non-null   float64\n",
      " 2   Item_Fat_Content           5681 non-null   object \n",
      " 3   Item_Visibility            5681 non-null   float64\n",
      " 4   Item_Type                  5681 non-null   object \n",
      " 5   Item_MRP                   5681 non-null   float64\n",
      " 6   Outlet_Identifier          5681 non-null   object \n",
      " 7   Outlet_Establishment_Year  5681 non-null   int64  \n",
      " 8   Outlet_Size                4075 non-null   object \n",
      " 9   Outlet_Location_Type       5681 non-null   object \n",
      " 10  Outlet_Type                5681 non-null   object \n",
      "dtypes: float64(3), int64(1), object(7)\n",
      "memory usage: 488.3+ KB\n",
      "<class 'pandas.core.frame.DataFrame'>\n",
      "RangeIndex: 8523 entries, 0 to 8522\n",
      "Data columns (total 12 columns):\n",
      " #   Column                     Non-Null Count  Dtype  \n",
      "---  ------                     --------------  -----  \n",
      " 0   Item_Identifier            8523 non-null   object \n",
      " 1   Item_Weight                7060 non-null   float64\n",
      " 2   Item_Fat_Content           8523 non-null   object \n",
      " 3   Item_Visibility            8523 non-null   float64\n",
      " 4   Item_Type                  8523 non-null   object \n",
      " 5   Item_MRP                   8523 non-null   float64\n",
      " 6   Outlet_Identifier          8523 non-null   object \n",
      " 7   Outlet_Establishment_Year  8523 non-null   int64  \n",
      " 8   Outlet_Size                6113 non-null   object \n",
      " 9   Outlet_Location_Type       8523 non-null   object \n",
      " 10  Outlet_Type                8523 non-null   object \n",
      " 11  Item_Outlet_Sales          8523 non-null   float64\n",
      "dtypes: float64(4), int64(1), object(7)\n",
      "memory usage: 799.2+ KB\n"
     ]
    }
   ],
   "source": [
    "# Further checks on data imported \n",
    "\n",
    "first_5test = test_df.head()\n",
    "first_5train = train_df.head()\n",
    "\n",
    "test_df.info()\n",
    "train_df.info()"
   ]
  },
  {
   "cell_type": "code",
   "execution_count": 6,
   "metadata": {},
   "outputs": [
    {
     "name": "stdout",
     "output_type": "stream",
     "text": [
      "     Item_Identifier  Item_Weight Item_Fat_Content  Item_Visibility  \\\n",
      "0              FDW58       20.750          Low Fat         0.007565   \n",
      "1              FDW14        8.300              reg         0.038428   \n",
      "2              NCN55       14.600          Low Fat         0.099575   \n",
      "3              FDQ58        7.315          Low Fat         0.015388   \n",
      "4              FDY38          NaN          Regular         0.118599   \n",
      "...              ...          ...              ...              ...   \n",
      "5676           FDB58       10.500          Regular         0.013496   \n",
      "5677           FDD47        7.600          Regular         0.142991   \n",
      "5678           NCO17       10.000          Low Fat         0.073529   \n",
      "5679           FDJ26       15.300          Regular         0.000000   \n",
      "5680           FDU37        9.500          Regular         0.104720   \n",
      "\n",
      "               Item_Type  Item_MRP Outlet_Identifier  \\\n",
      "0            Snack Foods  107.8622            OUT049   \n",
      "1                  Dairy   87.3198            OUT017   \n",
      "2                 Others  241.7538            OUT010   \n",
      "3            Snack Foods  155.0340            OUT017   \n",
      "4                  Dairy  234.2300            OUT027   \n",
      "...                  ...       ...               ...   \n",
      "5676         Snack Foods  141.3154            OUT046   \n",
      "5677       Starchy Foods  169.1448            OUT018   \n",
      "5678  Health and Hygiene  118.7440            OUT045   \n",
      "5679              Canned  214.6218            OUT017   \n",
      "5680              Canned   79.7960            OUT045   \n",
      "\n",
      "      Outlet_Establishment_Year Outlet_Size Outlet_Location_Type  \\\n",
      "0                          1999      Medium               Tier 1   \n",
      "1                          2007         NaN               Tier 2   \n",
      "2                          1998         NaN               Tier 3   \n",
      "3                          2007         NaN               Tier 2   \n",
      "4                          1985      Medium               Tier 3   \n",
      "...                         ...         ...                  ...   \n",
      "5676                       1997       Small               Tier 1   \n",
      "5677                       2009      Medium               Tier 3   \n",
      "5678                       2002         NaN               Tier 2   \n",
      "5679                       2007         NaN               Tier 2   \n",
      "5680                       2002         NaN               Tier 2   \n",
      "\n",
      "            Outlet_Type  \n",
      "0     Supermarket Type1  \n",
      "1     Supermarket Type1  \n",
      "2         Grocery Store  \n",
      "3     Supermarket Type1  \n",
      "4     Supermarket Type3  \n",
      "...                 ...  \n",
      "5676  Supermarket Type1  \n",
      "5677  Supermarket Type2  \n",
      "5678  Supermarket Type1  \n",
      "5679  Supermarket Type1  \n",
      "5680  Supermarket Type1  \n",
      "\n",
      "[5681 rows x 11 columns]\n",
      "     Item_Identifier  Item_Weight Item_Fat_Content  Item_Visibility  \\\n",
      "0              FDA15        9.300          Low Fat         0.016047   \n",
      "1              DRC01        5.920          Regular         0.019278   \n",
      "2              FDN15       17.500          Low Fat         0.016760   \n",
      "3              FDX07       19.200          Regular         0.000000   \n",
      "4              NCD19        8.930          Low Fat         0.000000   \n",
      "...              ...          ...              ...              ...   \n",
      "8518           FDF22        6.865          Low Fat         0.056783   \n",
      "8519           FDS36        8.380          Regular         0.046982   \n",
      "8520           NCJ29       10.600          Low Fat         0.035186   \n",
      "8521           FDN46        7.210          Regular         0.145221   \n",
      "8522           DRG01       14.800          Low Fat         0.044878   \n",
      "\n",
      "                  Item_Type  Item_MRP Outlet_Identifier  \\\n",
      "0                     Dairy  249.8092            OUT049   \n",
      "1               Soft Drinks   48.2692            OUT018   \n",
      "2                      Meat  141.6180            OUT049   \n",
      "3     Fruits and Vegetables  182.0950            OUT010   \n",
      "4                 Household   53.8614            OUT013   \n",
      "...                     ...       ...               ...   \n",
      "8518            Snack Foods  214.5218            OUT013   \n",
      "8519           Baking Goods  108.1570            OUT045   \n",
      "8520     Health and Hygiene   85.1224            OUT035   \n",
      "8521            Snack Foods  103.1332            OUT018   \n",
      "8522            Soft Drinks   75.4670            OUT046   \n",
      "\n",
      "      Outlet_Establishment_Year Outlet_Size Outlet_Location_Type  \\\n",
      "0                          1999      Medium               Tier 1   \n",
      "1                          2009      Medium               Tier 3   \n",
      "2                          1999      Medium               Tier 1   \n",
      "3                          1998         NaN               Tier 3   \n",
      "4                          1987        High               Tier 3   \n",
      "...                         ...         ...                  ...   \n",
      "8518                       1987        High               Tier 3   \n",
      "8519                       2002         NaN               Tier 2   \n",
      "8520                       2004       Small               Tier 2   \n",
      "8521                       2009      Medium               Tier 3   \n",
      "8522                       1997       Small               Tier 1   \n",
      "\n",
      "            Outlet_Type  Item_Outlet_Sales  \n",
      "0     Supermarket Type1          3735.1380  \n",
      "1     Supermarket Type2           443.4228  \n",
      "2     Supermarket Type1          2097.2700  \n",
      "3         Grocery Store           732.3800  \n",
      "4     Supermarket Type1           994.7052  \n",
      "...                 ...                ...  \n",
      "8518  Supermarket Type1          2778.3834  \n",
      "8519  Supermarket Type1           549.2850  \n",
      "8520  Supermarket Type1          1193.1136  \n",
      "8521  Supermarket Type2          1845.5976  \n",
      "8522  Supermarket Type1           765.6700  \n",
      "\n",
      "[8523 rows x 12 columns]\n"
     ]
    }
   ],
   "source": [
    "# Print all data \n",
    "\n",
    "print(test_df)\n",
    "print(train_df)"
   ]
  },
  {
   "cell_type": "markdown",
   "metadata": {},
   "source": [
    "## Data Cleaning Plan\n",
    "\n",
    "- Keeping all columns of data, do not need any data column drops - df.drop()\n",
    "- Standardise/ clean the content within the columns\n",
    "- Check value counts to see what needs to be adjusted - value.counts()\n",
    "- Replace all missing data points with NaN\n",
    "\n",
    "Example of Changes - \n",
    "- Item_Weight - empty points to N/A\n",
    "- Item_Fat_Content - LF, Low Fat, low fat to Low; Reg to Regular"
   ]
  },
  {
   "cell_type": "code",
   "execution_count": 7,
   "metadata": {},
   "outputs": [
    {
     "name": "stdout",
     "output_type": "stream",
     "text": [
      "     Item_Id  Item_Weight Item_Fat_Content  Item_Visibility  \\\n",
      "0      FDA15        9.300          Low Fat         0.016047   \n",
      "1      DRC01        5.920          Regular         0.019278   \n",
      "2      FDN15       17.500          Low Fat         0.016760   \n",
      "3      FDX07       19.200          Regular         0.000000   \n",
      "4      NCD19        8.930          Low Fat         0.000000   \n",
      "...      ...          ...              ...              ...   \n",
      "8518   FDF22        6.865          Low Fat         0.056783   \n",
      "8519   FDS36        8.380          Regular         0.046982   \n",
      "8520   NCJ29       10.600          Low Fat         0.035186   \n",
      "8521   FDN46        7.210          Regular         0.145221   \n",
      "8522   DRG01       14.800          Low Fat         0.044878   \n",
      "\n",
      "                  Item_Type  Item_Mrp Outlet_Id  Outlet_Establishment_Year  \\\n",
      "0                     Dairy  249.8092    OUT049                       1999   \n",
      "1               Soft Drinks   48.2692    OUT018                       2009   \n",
      "2                      Meat  141.6180    OUT049                       1999   \n",
      "3     Fruits and Vegetables  182.0950    OUT010                       1998   \n",
      "4                 Household   53.8614    OUT013                       1987   \n",
      "...                     ...       ...       ...                        ...   \n",
      "8518            Snack Foods  214.5218    OUT013                       1987   \n",
      "8519           Baking Goods  108.1570    OUT045                       2002   \n",
      "8520     Health and Hygiene   85.1224    OUT035                       2004   \n",
      "8521            Snack Foods  103.1332    OUT018                       2009   \n",
      "8522            Soft Drinks   75.4670    OUT046                       1997   \n",
      "\n",
      "     Outlet_Size Outlet_Location_Type        Outlet_Type  Item_Outlet_Sales  \n",
      "0         Medium               Tier 1  Supermarket Type1          3735.1380  \n",
      "1         Medium               Tier 3  Supermarket Type2           443.4228  \n",
      "2         Medium               Tier 1  Supermarket Type1          2097.2700  \n",
      "3            NaN               Tier 3      Grocery Store           732.3800  \n",
      "4           High               Tier 3  Supermarket Type1           994.7052  \n",
      "...          ...                  ...                ...                ...  \n",
      "8518        High               Tier 3  Supermarket Type1          2778.3834  \n",
      "8519         NaN               Tier 2  Supermarket Type1           549.2850  \n",
      "8520       Small               Tier 2  Supermarket Type1          1193.1136  \n",
      "8521      Medium               Tier 3  Supermarket Type2          1845.5976  \n",
      "8522       Small               Tier 1  Supermarket Type1           765.6700  \n",
      "\n",
      "[8523 rows x 12 columns]\n"
     ]
    }
   ],
   "source": [
    "# Cleaning column names \n",
    "\n",
    "def clean_col(col):\n",
    "    col = col.strip()\n",
    "    col = col.replace(\"Item_Identifier\", \"Item_Id\")\n",
    "    col = col.replace(\"Outlet_Identifier\", \"Outlet_Id\")\n",
    "    col = col.replace(\" \",\"_\")\n",
    "    col = col.title()\n",
    "    return col\n",
    "\n",
    "new_columns = []\n",
    "for c in train_df.columns:\n",
    "    clean_c = clean_col(c)\n",
    "    new_columns.append(clean_c)\n",
    "    \n",
    "train_df.columns = new_columns\n",
    "\n",
    "print(train_df)"
   ]
  },
  {
   "cell_type": "code",
   "execution_count": 8,
   "metadata": {},
   "outputs": [
    {
     "name": "stdout",
     "output_type": "stream",
     "text": [
      "12.150    86\n",
      "17.600    82\n",
      "13.650    77\n",
      "11.800    76\n",
      "15.100    68\n",
      "          ..\n",
      "7.560      2\n",
      "9.420      1\n",
      "5.400      1\n",
      "6.520      1\n",
      "7.685      1\n",
      "Name: Item_Weight, Length: 415, dtype: int64\n"
     ]
    }
   ],
   "source": [
    "print(train_df[\"Item_Weight\"].value_counts())"
   ]
  },
  {
   "cell_type": "code",
   "execution_count": 9,
   "metadata": {},
   "outputs": [
    {
     "name": "stdout",
     "output_type": "stream",
     "text": [
      "Low Fat    5089\n",
      "Regular    2889\n",
      "LF          316\n",
      "reg         117\n",
      "low fat     112\n",
      "Name: Item_Fat_Content, dtype: int64\n"
     ]
    }
   ],
   "source": [
    "print(train_df[\"Item_Fat_Content\"].value_counts())"
   ]
  },
  {
   "cell_type": "code",
   "execution_count": 10,
   "metadata": {},
   "outputs": [
    {
     "name": "stdout",
     "output_type": "stream",
     "text": [
      "Low        5517\n",
      "Regular    3006\n",
      "Name: Item_Fat_Content, dtype: int64\n"
     ]
    }
   ],
   "source": [
    "# Cleaning up irregularities in the column data\n",
    "\n",
    "train_df['Item_Fat_Content'] = train_df['Item_Fat_Content'].replace(['Low Fat', 'low fat', 'LF', 'reg'], ['Low', 'Low', 'Low', 'Regular'])\n",
    "print(train_df[\"Item_Fat_Content\"].value_counts())"
   ]
  },
  {
   "cell_type": "code",
   "execution_count": 11,
   "metadata": {},
   "outputs": [
    {
     "name": "stdout",
     "output_type": "stream",
     "text": [
      "0.000000    526\n",
      "0.076975      3\n",
      "0.041283      2\n",
      "0.085622      2\n",
      "0.187841      2\n",
      "           ... \n",
      "0.092576      1\n",
      "0.067544      1\n",
      "0.115168      1\n",
      "0.146896      1\n",
      "0.050902      1\n",
      "Name: Item_Visibility, Length: 7880, dtype: int64\n"
     ]
    }
   ],
   "source": [
    "print(train_df[\"Item_Visibility\"].value_counts())"
   ]
  },
  {
   "cell_type": "code",
   "execution_count": 12,
   "metadata": {},
   "outputs": [
    {
     "name": "stdout",
     "output_type": "stream",
     "text": [
      "Fruits and Vegetables    1232\n",
      "Snack Foods              1200\n",
      "Household                 910\n",
      "Frozen Foods              856\n",
      "Dairy                     682\n",
      "Canned                    649\n",
      "Baking Goods              648\n",
      "Health and Hygiene        520\n",
      "Soft Drinks               445\n",
      "Meat                      425\n",
      "Breads                    251\n",
      "Hard Drinks               214\n",
      "Others                    169\n",
      "Starchy Foods             148\n",
      "Breakfast                 110\n",
      "Seafood                    64\n",
      "Name: Item_Type, dtype: int64\n"
     ]
    }
   ],
   "source": [
    "print(train_df[\"Item_Type\"].value_counts())"
   ]
  },
  {
   "cell_type": "code",
   "execution_count": 13,
   "metadata": {},
   "outputs": [
    {
     "name": "stdout",
     "output_type": "stream",
     "text": [
      "Fruits and Vegetables    1232\n",
      "Snack Foods              1200\n",
      "Household                 910\n",
      "Frozen Foods              856\n",
      "Dairy                     682\n",
      "Canned                    649\n",
      "Baking Goods              648\n",
      "Health and Hygiene        520\n",
      "Soft Drinks               445\n",
      "Meat                      425\n",
      "Breads                    251\n",
      "Alcohol                   214\n",
      "Other                     169\n",
      "Starchy Foods             148\n",
      "Breakfast                 110\n",
      "Seafood                    64\n",
      "Name: Item_Type, dtype: int64\n"
     ]
    }
   ],
   "source": [
    "train_df['Item_Type'] = train_df['Item_Type'].replace(['Hard Drinks', 'Others'],['Alcohol', 'Other'])\n",
    "print(train_df[\"Item_Type\"].value_counts())"
   ]
  },
  {
   "cell_type": "code",
   "execution_count": 14,
   "metadata": {},
   "outputs": [
    {
     "name": "stdout",
     "output_type": "stream",
     "text": [
      "172.0422    7\n",
      "188.1872    6\n",
      "170.5422    6\n",
      "109.5228    6\n",
      "196.5084    6\n",
      "           ..\n",
      "212.8218    1\n",
      "190.3872    1\n",
      "162.6868    1\n",
      "189.1214    1\n",
      "51.3008     1\n",
      "Name: Item_Mrp, Length: 5938, dtype: int64\n"
     ]
    }
   ],
   "source": [
    "print(train_df[\"Item_Mrp\"].value_counts())"
   ]
  },
  {
   "cell_type": "code",
   "execution_count": 15,
   "metadata": {},
   "outputs": [
    {
     "name": "stdout",
     "output_type": "stream",
     "text": [
      "OUT027    935\n",
      "OUT013    932\n",
      "OUT049    930\n",
      "OUT035    930\n",
      "OUT046    930\n",
      "OUT045    929\n",
      "OUT018    928\n",
      "OUT017    926\n",
      "OUT010    555\n",
      "OUT019    528\n",
      "Name: Outlet_Id, dtype: int64\n"
     ]
    }
   ],
   "source": [
    "print(train_df[\"Outlet_Id\"].value_counts())"
   ]
  },
  {
   "cell_type": "code",
   "execution_count": 16,
   "metadata": {},
   "outputs": [
    {
     "name": "stdout",
     "output_type": "stream",
     "text": [
      "1985    1463\n",
      "1987     932\n",
      "1999     930\n",
      "1997     930\n",
      "2004     930\n",
      "2002     929\n",
      "2009     928\n",
      "2007     926\n",
      "1998     555\n",
      "Name: Outlet_Establishment_Year, dtype: int64\n"
     ]
    }
   ],
   "source": [
    "print(train_df[\"Outlet_Establishment_Year\"].value_counts())"
   ]
  },
  {
   "cell_type": "code",
   "execution_count": 17,
   "metadata": {},
   "outputs": [
    {
     "name": "stdout",
     "output_type": "stream",
     "text": [
      "Medium    2793\n",
      "Small     2388\n",
      "High       932\n",
      "Name: Outlet_Size, dtype: int64\n"
     ]
    }
   ],
   "source": [
    "print(train_df[\"Outlet_Size\"].value_counts())"
   ]
  },
  {
   "cell_type": "code",
   "execution_count": 18,
   "metadata": {},
   "outputs": [
    {
     "name": "stdout",
     "output_type": "stream",
     "text": [
      "Tier 3    3350\n",
      "Tier 2    2785\n",
      "Tier 1    2388\n",
      "Name: Outlet_Location_Type, dtype: int64\n"
     ]
    }
   ],
   "source": [
    "print(train_df[\"Outlet_Location_Type\"].value_counts())"
   ]
  },
  {
   "cell_type": "code",
   "execution_count": 19,
   "metadata": {},
   "outputs": [
    {
     "name": "stdout",
     "output_type": "stream",
     "text": [
      "Supermarket Type1    5577\n",
      "Grocery Store        1083\n",
      "Supermarket Type3     935\n",
      "Supermarket Type2     928\n",
      "Name: Outlet_Type, dtype: int64\n"
     ]
    }
   ],
   "source": [
    "print(train_df[\"Outlet_Type\"].value_counts())"
   ]
  },
  {
   "cell_type": "code",
   "execution_count": 20,
   "metadata": {},
   "outputs": [
    {
     "name": "stdout",
     "output_type": "stream",
     "text": [
      "958.7520     17\n",
      "1342.2528    16\n",
      "1845.5976    15\n",
      "703.0848     15\n",
      "1278.3360    14\n",
      "             ..\n",
      "3167.8764     1\n",
      "2226.4352     1\n",
      "1684.4740     1\n",
      "1574.6170     1\n",
      "6692.6216     1\n",
      "Name: Item_Outlet_Sales, Length: 3493, dtype: int64\n"
     ]
    }
   ],
   "source": [
    "print(train_df[\"Item_Outlet_Sales\"].value_counts())"
   ]
  },
  {
   "cell_type": "code",
   "execution_count": 21,
   "metadata": {},
   "outputs": [],
   "source": [
    "# Replace Blank values with DataFrame.replace() methods.\n",
    "\n",
    "train_df = train_df.replace(r'^\\s*$', np.nan, regex=True)"
   ]
  },
  {
   "cell_type": "code",
   "execution_count": 22,
   "metadata": {},
   "outputs": [
    {
     "name": "stdout",
     "output_type": "stream",
     "text": [
      "     Item_Id  Item_Weight Item_Fat_Content  Item_Visibility  \\\n",
      "0      FDA15        9.300              Low         0.016047   \n",
      "1      DRC01        5.920          Regular         0.019278   \n",
      "2      FDN15       17.500              Low         0.016760   \n",
      "3      FDX07       19.200          Regular         0.000000   \n",
      "4      NCD19        8.930              Low         0.000000   \n",
      "...      ...          ...              ...              ...   \n",
      "8518   FDF22        6.865              Low         0.056783   \n",
      "8519   FDS36        8.380          Regular         0.046982   \n",
      "8520   NCJ29       10.600              Low         0.035186   \n",
      "8521   FDN46        7.210          Regular         0.145221   \n",
      "8522   DRG01       14.800              Low         0.044878   \n",
      "\n",
      "                  Item_Type  Item_Mrp Outlet_Id  Outlet_Establishment_Year  \\\n",
      "0                     Dairy  249.8092    OUT049                       1999   \n",
      "1               Soft Drinks   48.2692    OUT018                       2009   \n",
      "2                      Meat  141.6180    OUT049                       1999   \n",
      "3     Fruits and Vegetables  182.0950    OUT010                       1998   \n",
      "4                 Household   53.8614    OUT013                       1987   \n",
      "...                     ...       ...       ...                        ...   \n",
      "8518            Snack Foods  214.5218    OUT013                       1987   \n",
      "8519           Baking Goods  108.1570    OUT045                       2002   \n",
      "8520     Health and Hygiene   85.1224    OUT035                       2004   \n",
      "8521            Snack Foods  103.1332    OUT018                       2009   \n",
      "8522            Soft Drinks   75.4670    OUT046                       1997   \n",
      "\n",
      "     Outlet_Size Outlet_Location_Type        Outlet_Type  Item_Outlet_Sales  \n",
      "0         Medium               Tier 1  Supermarket Type1          3735.1380  \n",
      "1         Medium               Tier 3  Supermarket Type2           443.4228  \n",
      "2         Medium               Tier 1  Supermarket Type1          2097.2700  \n",
      "3            NaN               Tier 3      Grocery Store           732.3800  \n",
      "4           High               Tier 3  Supermarket Type1           994.7052  \n",
      "...          ...                  ...                ...                ...  \n",
      "8518        High               Tier 3  Supermarket Type1          2778.3834  \n",
      "8519         NaN               Tier 2  Supermarket Type1           549.2850  \n",
      "8520       Small               Tier 2  Supermarket Type1          1193.1136  \n",
      "8521      Medium               Tier 3  Supermarket Type2          1845.5976  \n",
      "8522       Small               Tier 1  Supermarket Type1           765.6700  \n",
      "\n",
      "[8523 rows x 12 columns]\n"
     ]
    }
   ],
   "source": [
    "print(train_df)"
   ]
  },
  {
   "cell_type": "code",
   "execution_count": null,
   "metadata": {},
   "outputs": [],
   "source": [
    "# clean sales to remove decimals"
   ]
  },
  {
   "cell_type": "markdown",
   "metadata": {},
   "source": [
    "## Data Analysis/ Cleaned Data onwards"
   ]
  },
  {
   "cell_type": "code",
   "execution_count": null,
   "metadata": {},
   "outputs": [],
   "source": []
  }
 ],
 "metadata": {
  "kernelspec": {
   "display_name": "Python 3",
   "language": "python",
   "name": "python3"
  },
  "language_info": {
   "codemirror_mode": {
    "name": "ipython",
    "version": 3
   },
   "file_extension": ".py",
   "mimetype": "text/x-python",
   "name": "python",
   "nbconvert_exporter": "python",
   "pygments_lexer": "ipython3",
   "version": "3.8.5"
  }
 },
 "nbformat": 4,
 "nbformat_minor": 4
}
